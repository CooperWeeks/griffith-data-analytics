{
 "cells": [
  {
   "cell_type": "code",
   "execution_count": null,
   "metadata": {
    "colab": {
     "base_uri": "https://localhost:8080/",
     "height": 105
    },
    "executionInfo": {
     "elapsed": 290,
     "status": "error",
     "timestamp": 1709470131849,
     "user": {
      "displayName": "Minh Hiếu Nguyễn",
      "userId": "03728514655365313772"
     },
     "user_tz": -600
    },
    "id": "P8t19yNDV_DG",
    "outputId": "ea1d882b-238d-4853-889d-d40a47728e0c"
   },
   "outputs": [],
   "source": [
    "# Write a Python script to download IMDB 250 Top Rated Movies.\n",
    "# For each movie, you'll need to retrieve the movie title, the ranking, the initial release year, and\n",
    "# the rating.\n",
    "# Your data must be stored in a proper imdb_top_250.csv file.\n",
    "import pandas as pd\n",
    "import requests, csv\n",
    "from bs4 import BeautifulSoup\n",
    "\n",
    "def get_movies(url):\n",
    "    response = requests.get(url)\n",
    "    soup_imdb = BeautifulSoup(response.text)\n",
    "\n",
    "    all_movies = soup_imdb.find_all(\"li\", {\"class\":\"ipc-metadata-list-summary-item\"})\n",
    "\n",
    "    \n",
    "    # get movie title :\n",
    "    titles = []\n",
    "\n",
    "    # get ranking :\n",
    "    rankings = []\n",
    "\n",
    "    # get release year :\n",
    "    years = []\n",
    "\n",
    "    # get rating :\n",
    "    ratings = []\n",
    "\n",
    "    mega_list = list(zip(titles, rankings, years, ratings))\n",
    "    mega_list = [list(elt) for elt in mega_list]\n",
    "\n",
    "    # Write csv\n",
    "    str_lst = [f\"{mega_list[i][1]} / {mega_list[i][0]} ({mega_list[i][2]}) / Starring: {mega_list[i][3]}\" \\\n",
    "    for i, val in enumerate(mega_list)]\n",
    "\n",
    "    res = [elt.split(\"/\") for elt in str_lst]\n",
    "\n",
    "    with open(\"imdb_top_250.csv\", \"w\") as f:\n",
    "        writer = csv.writer(f, delimiter=\"-\")\n",
    "        writer.writerows(res)"
   ]
  },
  {
   "cell_type": "code",
   "execution_count": null,
   "metadata": {
    "colab": {
     "base_uri": "https://localhost:8080/",
     "height": 292
    },
    "executionInfo": {
     "elapsed": 378,
     "status": "error",
     "timestamp": 1709470132510,
     "user": {
      "displayName": "Minh Hiếu Nguyễn",
      "userId": "03728514655365313772"
     },
     "user_tz": -600
    },
    "id": "8276EKY2V_DJ",
    "outputId": "5c43c757-c060-4013-d1c9-3ef71743e36b"
   },
   "outputs": [],
   "source": [
    "def main():\n",
    "    url = \"https://www.imdb.com/chart/top\"\n",
    "    get_movies(url)\n",
    "    df = pd.read_csv(\"imdb_top_250.csv\", sep=\"-\")\n",
    "    df.head()\n",
    "\n",
    "if __name__ == \"__main__\":\n",
    "    main()"
   ]
  }
 ],
 "metadata": {
  "colab": {
   "provenance": []
  },
  "kernelspec": {
   "display_name": "Python 3 (ipykernel)",
   "language": "python",
   "name": "python3"
  },
  "language_info": {
   "codemirror_mode": {
    "name": "ipython",
    "version": 3
   },
   "file_extension": ".py",
   "mimetype": "text/x-python",
   "name": "python",
   "nbconvert_exporter": "python",
   "pygments_lexer": "ipython3",
   "version": "3.11.3"
  }
 },
 "nbformat": 4,
 "nbformat_minor": 1
}
